{
 "cells": [
  {
   "cell_type": "code",
   "execution_count": 30,
   "metadata": {},
   "outputs": [],
   "source": [
    "from networkx import grid_graph, neighbors\n",
    "import numpy as np\n",
    "from scipy.stats import poisson \n",
    "from random import random, sample, choice\n",
    "\n",
    "import matplotlib.pyplot as plt\n",
    "import matplotlib.animation as animation\n",
    "from matplotlib import colors, cm\n",
    "\n",
    "\n",
    "from ete3 import Tree, NodeStyle, TreeStyle\n",
    "from Bio import Phylo\n",
    "from collections import Counter\n",
    "from io import StringIO\n"
   ]
  },
  {
   "cell_type": "code",
   "execution_count": 15,
   "metadata": {},
   "outputs": [],
   "source": [
    "def sort_pairs(pair):\n",
    "    # Extract integer after \"r\".\n",
    "    return int(pair[0][1:])\n",
    "\n",
    "def make_tree_from_list(mut_pairs):\n",
    "    parents = []\n",
    "    children = []\n",
    "    pairs_of_mutations = []\n",
    "    for item in mut_pairs:\n",
    "        a = 'r'+str(item[0])\n",
    "        b = 'r'+str(item[1])\n",
    "        pairs_of_mutations.append((a,b))\n",
    "    t = Tree() # Creates an empty tree\n",
    "    r0 = t.add_child(name=\"r0\")\n",
    "    lookup = {\"r0\": r0}\n",
    "\n",
    "    for pair in sorted(pairs_of_mutations, key=sort_pairs):\n",
    "        parentname = pair[0]\n",
    "        childname = pair[1]\n",
    "        if childname not in lookup:\n",
    "            if parentname in lookup:\n",
    "                newchild = lookup[parentname].add_child(name = childname)\n",
    "                lookup.update({childname: newchild})\n",
    "\n",
    "                parents.append(parentname) #make list of unique terminal nodes (no children of children)\n",
    "                children.append(newchild)\n",
    "            else:\n",
    "                print(pair)\n",
    "                raise RuntimeError('Must not happen.')\n",
    "\n",
    "    return t\n",
    "\n",
    "\n",
    "def make_pruned_tree_from_list(mut_pairs):\n",
    "    parents = []\n",
    "    children = []\n",
    "    pairs_of_mutations = []\n",
    "    for item in mut_pairs:\n",
    "        a = 'r'+str(item[0])\n",
    "        b = 'r'+str(item[1])\n",
    "        pairs_of_mutations.append((a,b))\n",
    "    t = Tree() # Creates an empty tree\n",
    "    r0 = t.add_child(name=\"r0\")\n",
    "    lookup = {\"r0\": r0}\n",
    "    prune_list = ['r0']\n",
    "    for pair in sorted(pairs_of_mutations, key=sort_pairs):\n",
    "        parentname = pair[0]\n",
    "        childname = pair[1]\n",
    "        if childname not in lookup:\n",
    "            if parentname in lookup:\n",
    "                newchild = lookup[parentname].add_child(name = childname)\n",
    "                lookup.update({childname: newchild})\n",
    "                if parentname not in parents:\n",
    "                    prune_list.append(lookup[parentname])\n",
    "                parents.append(parentname) #make list of unique terminal nodes (no children of children)\n",
    "                children.append(newchild)\n",
    "            else:\n",
    "                print(pair)\n",
    "                raise RuntimeError('Must not happen.')\n",
    "    prune_count = Counter(children)\n",
    "    t.prune(prune_list)\n",
    "    return t"
   ]
  },
  {
   "cell_type": "code",
   "execution_count": 3,
   "metadata": {},
   "outputs": [],
   "source": [
    "\n",
    "\n",
    "##cdf of probability distribution overn for the maximum expected of n values drawn from poisson distribution given expectation value of mu\n",
    "def poisson_max_cdf(x,mu,n):\n",
    "    y = poisson.cdf(x,mu)**n\n",
    "    return y\n",
    "\n",
    "\n",
    "#given a random number, and a cumulitive distribution function computes probability corresponding to random number\n",
    "def mutation(r,dist):\n",
    "    check = np.append(dist,r)\n",
    "    check.sort()\n",
    "    m = np.where(check ==r )[0][0]\n",
    "    return m\n",
    "\n",
    "def fitness_func_A(d,m,k,s_p,s,pk):\n",
    "    p = s - s_p\n",
    "    y = s + (p)* ((d**k)/((d**k)- (s-p)/s))*((m - pk)/pk)\n",
    "    return y\n",
    "\n",
    "##fintess fitness increases linearly with (non deleterious mutations) \n",
    "#and as a hill like function with respect to drug concentration, \n",
    "#given a hill like constant, k, minimum fitnesss possibile over mutation space, s_p, maximum, p, \n",
    "##and the amount of mutations and which fitness is maximum (i.e. certain reproductiion with each iteration)\n",
    "def fitness_func_A(d,m,k,s_p,s,pk):\n",
    "    p = s - s_p\n",
    "    y = s + (p)* ((d**k)/((d**k)- (s-p)/s))*((m - pk)/pk)\n",
    "    return y\n",
    "\n",
    "##fintess  decreases linearly with (non deleterious mutations) \n",
    "#and as a hill like function with respect to drug concentration, \n",
    "#given a hill like constant, k, minimum fitnesss possibile over mutation space, s_p, maximum, p, \n",
    "##and the amount of mutations and which fitness is maximum (i.e. certain reproductiion with each iteration)\n",
    "def fitness_func_B(d,m,k,s_p,s,pk):\n",
    "    p = s - s_p\n",
    "    y = s - (p)* ((d**k)/((d**k)- (s-p)/s))*(m/pk)\n",
    "    return y\n",
    "\n",
    "\n",
    "\n",
    "\n",
    "##simulation of bacterial evolution over a rectangle of given size with discrete (horizontal) bands of specified antiobitic concentration\n",
    "##outputs the cellstate over the entire course of evolution\n",
    "def megaplate_sim(length ,width, divs,abx,mut_rate, k,s_p,s,pk,fitness_function):\n",
    "    ##set up networkx grid to calculate neighbors\n",
    "    G = grid_graph(dim=[width, length])\n",
    "\n",
    "    ##set up array to track mutation states of cells in grid\n",
    "    cells = np.full((length,width),-1)\n",
    "\n",
    "    ##'innoculate' the first row with wild type cells\n",
    "    cells[0] = 0\n",
    "\n",
    "\n",
    "    ##mutation odds over mutation space based on the \n",
    "    ##expected maximum value for the number (of cells in grid_cell) drawn from a  poisson distruibtion  \n",
    "    mut_space = np.linspace(0,pk,pk+1)\n",
    "    #prob_dist = poisson_max_cdf(np.linspace(0,100,101),mut_rate,cells_per_grid)\n",
    "    prob_dist = poisson.cdf(np.linspace(0,100,101),mut_rate)\n",
    "\n",
    "\n",
    "    ##indicate that the half time has been reached yet\n",
    "\n",
    "    #iniative list to which each cell state is appended\n",
    "    cell_history= []\n",
    "    \n",
    "    #save all mutation\n",
    "    mut_count = 0\n",
    "    mut_states = np.full((length,width),0)\n",
    "    mut_pairs = []\n",
    "    \n",
    "    \n",
    "    #stop running when a cell has made it to the last row\n",
    "    while all(cells[-1] == -1):\n",
    "        ##each itteration the  most recent cell state is added to the cell_history array\n",
    "        cell_history.append(cells.tolist())\n",
    "\n",
    "\n",
    "\n",
    "\n",
    "        ##find slots where there is a living cells\n",
    "        cells_where =  np.where(cells >= 0)\n",
    "\n",
    "\n",
    "        ##create a randomized list of the living cells with which to iterate through\n",
    "        live_cells_list = []\n",
    "        for x, y in zip(cells_where[0], cells_where[1]):\n",
    "            live_cells_list.append([x,y])\n",
    "\n",
    "        np.random.shuffle(live_cells_list)\n",
    "        \n",
    "        \n",
    "        for j in live_cells_list:\n",
    "            #cfeate list of tuples of jth cells empty neighbors if any\n",
    "                    \n",
    "            empty_neighbors = [x for x in G.neighbors(tuple(j)) if cells[tuple((x))] ==-1 ] \n",
    "            #if the array containing the empty neighbors is not empty allow it to mutate\n",
    "            if empty_neighbors:\n",
    "                #random number between -1 and 1 \n",
    "                g_draw = 2 * random() -1\n",
    "                \n",
    "                #compare random number to computed fitness to see if fitness is greater than drawn value\n",
    "                if fitness_function(abx[tuple(j)],cells[tuple(j)],k,s_p,s,pk)> g_draw :\n",
    "                    #choose an neighbor at random (from list of tuples)\n",
    "                    pick = choice(empty_neighbors)\n",
    "                    #number of mutations to be applied to daughter cells\n",
    "                    m = mutation(random(),prob_dist)*choice([-1,1])\n",
    "                    \n",
    "                    if m != 0:\n",
    "                        #mutations are applied to daughter cell in current grid cell                   \n",
    "                        cells[tuple(j)] += m\n",
    "                    \n",
    "                        ##create list pair of the parent and daughter cells mutation event count\n",
    "                        mut_pairs.append([mut_states[tuple(j)],mut_count])\n",
    "\n",
    "                        #update the count of the mutation event that the daughter cell in same grid cell just inherited\n",
    "                        mut_states[tuple(j)] = mut_count\n",
    "                        \n",
    "                        #advance count of mutation event\n",
    "                        mut_count += 1\n",
    "                    \n",
    "                    #update the count of the mutation event that the other daughter cell inherited\n",
    "                    mut_states[tuple(pick)] = mut_states[tuple(j)]\n",
    "                                        \n",
    "                    ##other daughter cells occupies chosen empty spot\n",
    "                    cells[tuple(pick)] = cells[tuple(j)]\n",
    "                    \n",
    "\n",
    "\n",
    "\n",
    "\n",
    "    return cell_history,cells,mut_pairs\n",
    "\n",
    "\n",
    "\n",
    "##simulation of bacterial evolution over a rectangle of given size with discrete (horizontal) \n",
    "##bands of specified antiobitic concentration. Each lattice space can have any amount of two drugs (A or B)\n",
    "##outputs the cellstate over the entire course of evolution\n",
    "def megaplate_cs(length ,width, divs,\n",
    "                 abx_A ##numpy array of concentration of antiobitc A with regard to position in lattice\n",
    "                 ,abx_B ##numpy array of concentration of antiobitc A with regard to position in lattice\n",
    "                 ,fitness_function_A #fitness of bacteria as a function of total mutations and drug A conc\n",
    "                 ,fitness_function_B, #fitness of bacteria as a function of total mutations and drug B conc\n",
    "                 mut_rate, k,s_p,s,pk,density):\n",
    "    ##set up networkx grid to calculate neighbors\n",
    "   ##set up networkx grid to calculate neighbors\n",
    "    G = grid_graph(dim=[width, length])\n",
    "\n",
    "    ##set up array gto track mutation states of cells in grid\n",
    "    cells = np.full((length,width),-1)\n",
    "\n",
    "    ##'innoculate' the first row with wild type cells\n",
    "    cells[0] = 0\n",
    "\n",
    "    ##actual cells per grid cell, as scaled by the MegaPLate experiment,  Baym et. al \n",
    "    cells_per_grid = density\n",
    "\n",
    "    ##mutation odds over mutation space based on the \n",
    "    ##expected maximum value for the number (of cells in grid_cell) drawn from a  poisson distruibtion  \n",
    "    mut_space = np.linspace(0,pk,pk+1)\n",
    "    #prob_dist = poisson_max_cdf(np.linspace(0,100,101),mut_rate,cells_per_grid)\n",
    "    prob_dist = poisson.cdf(np.linspace(0,100,101),mut_rate)\n",
    "    ##save all cell \n",
    "    #cell_history = []\n",
    "\n",
    "\n",
    "\n",
    "    cell_history= []\n",
    "    \n",
    "    ##when to stop running the cimulation\n",
    "    #while all(cells[-1] == -1) and len(cell_history) != 40002:\n",
    "    #while all(cells[-int(ln/g)+2] == -1) and len(cell_history) != 40002:\n",
    "\n",
    "       \n",
    "            \n",
    "    while all(cells[-1] == -1):\n",
    "        ##each itteration the  most recent cell state is added to the cell_history array\n",
    "        cell_history.append(cells.tolist())\n",
    "\n",
    "\n",
    "\n",
    "\n",
    "        ##find slots where there is a living cells\n",
    "        cells_where =  np.where(cells >= 0)\n",
    "\n",
    "\n",
    "        ##create a list of the living cells with which to iterate through\n",
    "        live_cells_list = []\n",
    "        for x, y in zip(cells_where[0], cells_where[1]):\n",
    "            live_cells_list.append([x,y])\n",
    "        \n",
    "        #randomize list to avoid spatially biasing\n",
    "        np.random.shuffle(live_cells_list)\n",
    "        \n",
    "        \n",
    "        for j in live_cells_list:\n",
    "            #cfeate list of tuples of jth cells empty neighbors if any\n",
    "                    \n",
    "            empty_neighbors = [x for x in G.neighbors(tuple(j)) if cells[tuple((x))] ==-1 ] \n",
    "            #if the array containing the empty neighbors is not empty allow it to mutate\n",
    "            if empty_neighbors:\n",
    "                #random number between -1 and 1 \n",
    "                g_draw = 2 * random() -1\n",
    "                mean_fitness = fitness_function_A(abx_A[tuple(j)],\n",
    "                              cells[tuple(j)],\n",
    "                              k,s_p,s,pk) * fitness_function_B(abx_B[tuple(j)],\n",
    "                                                               cells[tuple(j)],k,s_p,s,pk)\n",
    "\n",
    "                if mean_fitness< g_draw :\n",
    "                        pick = choice(empty_neighbors)\n",
    "                        m = mutation(random(),prob_dist)*choice([-1,1])\n",
    "\n",
    "                        cells[tuple(j)] = cells[tuple(j)]+sum(m)\n",
    "                        \n",
    "\n",
    "                        ##other daughter cells occupies chosen empty spot\n",
    "                        cells[tuple(pick)] = cells[tuple(j)]\n",
    "                    \n",
    "            \n",
    "        \n",
    "    return cell_history,cells\n"
   ]
  },
  {
   "cell_type": "markdown",
   "metadata": {},
   "source": [
    "## MEGAplate experiment"
   ]
  },
  {
   "cell_type": "code",
   "execution_count": 24,
   "metadata": {},
   "outputs": [
    {
     "name": "stdout",
     "output_type": "stream",
     "text": [
      "CPU times: user 1.56 s, sys: 364 ms, total: 1.92 s\n",
      "Wall time: 1.96 s\n"
     ]
    }
   ],
   "source": [
    "%%time\n",
    "\n",
    "length = 40\n",
    "width = int(0.9*length)\n",
    "divs = 5\n",
    "\n",
    "l = [val for sublist in [[j for i in range(int(length/divs))] for j in range (0,divs)] for val in sublist]\n",
    "ab =[[3*10**(i-1)]*width for i  in l if i != 0]\n",
    "[ab.insert(i, [0]*width) for i in range(0,int(length/divs))]\n",
    "abx_grad = np.array(ab)\n",
    "\n",
    "bacteria_per_gridcell = int(((60*((120/9)*5) * 10**8)/1)/(length*width))\n",
    "ch,c,mp= megaplate_sim(length,width,divs, abx_grad,0.1,0.8,-1,0.8,100, fitness_func_A)"
   ]
  },
  {
   "cell_type": "code",
   "execution_count": 25,
   "metadata": {},
   "outputs": [
    {
     "name": "stdout",
     "output_type": "stream",
     "text": [
      "most mutated final strain: 6. Total \"time\": 372\n"
     ]
    }
   ],
   "source": [
    "print('most mutated final strain: %d.' % np.array(ch).max(), 'Total \"time\": %d' % len(ch))"
   ]
  },
  {
   "cell_type": "code",
   "execution_count": null,
   "metadata": {},
   "outputs": [],
   "source": []
  },
  {
   "cell_type": "code",
   "execution_count": 26,
   "metadata": {},
   "outputs": [],
   "source": [
    "t = make_pruned_tree_from_list(mp)\n",
    "t_newick = t.write( format = 1)"
   ]
  },
  {
   "cell_type": "code",
   "execution_count": 27,
   "metadata": {},
   "outputs": [],
   "source": [
    "handle = StringIO(t_newick)\n",
    "tree = Phylo.read(handle, \"newick\")\n"
   ]
  },
  {
   "cell_type": "code",
   "execution_count": 38,
   "metadata": {},
   "outputs": [
    {
     "data": {
      "image/png": "[encoded data removed]",
      "text/plain": [
       "<Figure size 792x792 with 2 Axes>"
      ]
     },
     "metadata": {
      "needs_background": "light"
     },
     "output_type": "display_data"
    }
   ],
   "source": [
    "fig =plt.figure(figsize=(11,11))\n",
    "\n",
    "ax1 = fig.add_subplot(2, 1, 1)\n",
    "ax2 = fig.add_subplot(1, 1, 1)\n",
    "plt.show()"
   ]
  },
  {
   "cell_type": "code",
   "execution_count": 39,
   "metadata": {},
   "outputs": [
    {
     "data": {
      "image/png": "[encoded data removed]",
      "text/plain": [
       "<Figure size 432x792 with 2 Axes>"
      ]
     },
     "metadata": {
      "needs_background": "light"
     },
     "output_type": "display_data"
    }
   ],
   "source": [
    "fig =plt.figure(figsize=(6,11))\n",
    "\n",
    "\n",
    "cellhistory = ch\n",
    "\n",
    "\n",
    "ims = []\n",
    "ax1 = fig.add_subplot(1, 1, 1)\n",
    "#ax2 = fig.add_subplot(1, 2, 1)\n",
    "plt.grid(False)\n",
    "plt.axis('Off')\n",
    "plt.title('Mega Plate CA')\n",
    "\n",
    "#Phylo.draw(tree,label_func =lambda n: None, branch_labels=lambda n: None,axes=ax2)\n",
    "norm = colors.Normalize(vmin=0, vmax=max(max(max(cellhistory))))\n",
    "my_cmap = cm.get_cmap('YlGnBu')\n",
    "my_cmap.set_under('w')\n",
    "hi = ax1.imshow(np.array(cellhistory[-1]).T,interpolation='nearest', origin='lower',norm=norm,cmap=my_cmap);\n",
    "for i in range(len(cellhistory)):\n",
    "    \n",
    "    ims.append((ax1.imshow(np.array(cellhistory[i]).T, interpolation='nearest', origin='lower',norm=norm,cmap=my_cmap),))\n",
    "\n",
    "\n",
    "    \n",
    "\n",
    "cbar = fig.colorbar(hi,ax=ax1, orientation = 'horizontal')\n",
    "\n",
    "cbar.set_ticks([0,max(max(max(cellhistory)))])\n",
    "cbar.set_ticklabels([\"Low \",'High'])\n",
    "\n",
    "cbar.set_label(\"mutational dist. from WT\") \n",
    "im_ani = animation.ArtistAnimation(fig, ims,interval=100, repeat_delay=1000,\n",
    "                                   blit=True)\n",
    "\n",
    "\n",
    "\n",
    "#plt.show()\n",
    "im_ani.save('test.gif', writer='imagemagick')\n",
    "\n"
   ]
  },
  {
   "cell_type": "code",
   "execution_count": 7,
   "metadata": {},
   "outputs": [],
   "source": [
    "t = make_tree_from_list(mp)"
   ]
  },
  {
   "cell_type": "code",
   "execution_count": 8,
   "metadata": {},
   "outputs": [],
   "source": [
    "#t.prune(prune_list)\n",
    "# Create an empty TreeStyle\n",
    "#ts = TreeStyle()\n",
    "# # Set our custom layout function\n",
    "# ts.layout_fn = layout\n",
    "# Draw a tree\n",
    "# ts.mode = \"c\"  # this makes it circular\n",
    "# False need to add node names manually\n",
    "#ts.show_leaf_name = False\n",
    "#ts.scale = 120\n",
    "# Show branch data\n",
    "#ts.show_branch_length = False\n",
    "#ts.show_branch_support = False\n",
    "t.show()"
   ]
  },
  {
   "cell_type": "code",
   "execution_count": 72,
   "metadata": {},
   "outputs": [
    {
     "ename": "NameError",
     "evalue": "name 'fitness_func' is not defined",
     "output_type": "error",
     "traceback": [
      "\u001b[0;31m---------------------------------------------------------------------------\u001b[0m",
      "\u001b[0;31mNameError\u001b[0m                                 Traceback (most recent call last)",
      "\u001b[0;32m<ipython-input-72-0b3787478737>\u001b[0m in \u001b[0;36m<module>\u001b[0;34m()\u001b[0m\n\u001b[1;32m     25\u001b[0m ch,c = megaplate_cs(length =length, width = width,divs =divs,\n\u001b[1;32m     26\u001b[0m                   \u001b[0mabx_A\u001b[0m \u001b[0;34m=\u001b[0m \u001b[0mdrug_A\u001b[0m\u001b[0;34m,\u001b[0m\u001b[0mabx_B\u001b[0m \u001b[0;34m=\u001b[0m \u001b[0mdrug_B\u001b[0m\u001b[0;34m,\u001b[0m\u001b[0;34m\u001b[0m\u001b[0m\n\u001b[0;32m---> 27\u001b[0;31m                   \u001b[0mfitness_function_A\u001b[0m \u001b[0;34m=\u001b[0m \u001b[0mfitness_func\u001b[0m\u001b[0;34m,\u001b[0m\u001b[0;34m\u001b[0m\u001b[0m\n\u001b[0m\u001b[1;32m     28\u001b[0m                  \u001b[0mfitness_function_B\u001b[0m \u001b[0;34m=\u001b[0m \u001b[0mfitness_func_1\u001b[0m\u001b[0;34m,\u001b[0m\u001b[0;34m\u001b[0m\u001b[0m\n\u001b[1;32m     29\u001b[0m                  \u001b[0mmut_rate\u001b[0m \u001b[0;34m=\u001b[0m \u001b[0;36m0.1\u001b[0m\u001b[0;34m,\u001b[0m\u001b[0;34m\u001b[0m\u001b[0m\n",
      "\u001b[0;31mNameError\u001b[0m: name 'fitness_func' is not defined"
     ]
    }
   ],
   "source": [
    "length = 140\n",
    "width = int(0.9*140)\n",
    "divs = 5\n",
    "\n",
    "ab = []\n",
    "drug_bands = [0,3,0,300,0]\n",
    "for i in drug_bands:\n",
    "    for j in range(int(length/divs)):\n",
    "        ab.append([i]*width)\n",
    "drug_A = np.array(ab)\n",
    "\n",
    "length = 140\n",
    "width = int(0.9*140)\n",
    "divs = 5\n",
    "\n",
    "ab = []\n",
    "drug_bands = [0,0,30,0,3000]\n",
    "for i in drug_bands:\n",
    "    for j in range(int(length/divs)):\n",
    "        ab.append([i]*width)\n",
    "drug_B = np.array(ab)\n",
    "\n",
    "bactera_per_gridcell = int(((60*((120/9)*5) * 10**8)/1)/(length*width))\n",
    "\n",
    "ch,c = megaplate_cs(length =length, width = width,divs =divs,\n",
    "                  abx_A = drug_A,abx_B = drug_B,\n",
    "                  fitness_function_A = fitness_func,\n",
    "                 fitness_function_B = fitness_func_1,\n",
    "                 mut_rate = 0.1,\n",
    "                 k= .8,s_p = -1,s =.8,pk =200,\n",
    "                 density = bactera_per_gridcell) "
   ]
  },
  {
   "cell_type": "code",
   "execution_count": 773,
   "metadata": {},
   "outputs": [
    {
     "ename": "IndexError",
     "evalue": "list index out of range",
     "output_type": "error",
     "traceback": [
      "\u001b[0;31m---------------------------------------------------------------------------\u001b[0m",
      "\u001b[0;31mIndexError\u001b[0m                                Traceback (most recent call last)",
      "\u001b[0;32m<ipython-input-773-52ef53392c56>\u001b[0m in \u001b[0;36m<module>\u001b[0;34m()\u001b[0m\n\u001b[0;32m----> 1\u001b[0;31m \u001b[0mplt\u001b[0m\u001b[0;34m.\u001b[0m\u001b[0mimshow\u001b[0m\u001b[0;34m(\u001b[0m\u001b[0mch\u001b[0m\u001b[0;34m[\u001b[0m\u001b[0;34m-\u001b[0m\u001b[0;36m1\u001b[0m\u001b[0;34m]\u001b[0m\u001b[0;34m,\u001b[0m\u001b[0mcmap\u001b[0m \u001b[0;34m=\u001b[0m \u001b[0;34m'bone'\u001b[0m\u001b[0;34m)\u001b[0m\u001b[0;34m\u001b[0m\u001b[0m\n\u001b[0m",
      "\u001b[0;31mIndexError\u001b[0m: list index out of range"
     ]
    }
   ],
   "source": [
    "plt.imshow(ch[-1],cmap = 'bone')"
   ]
  },
  {
   "cell_type": "code",
   "execution_count": 359,
   "metadata": {},
   "outputs": [
    {
     "data": {
      "text/plain": [
       "0.6000000000148148"
      ]
     },
     "execution_count": 359,
     "metadata": {},
     "output_type": "execute_result"
    }
   ],
   "source": [
    "fitness_func(0,200,3,-1,1,1000)*fitness_func_1(3000,200,3,-1,1,1000)"
   ]
  },
  {
   "cell_type": "code",
   "execution_count": 361,
   "metadata": {},
   "outputs": [
    {
     "data": {
      "text/plain": [
       "<function __main__.fitness_func_1(d, m, k, s_p, s, pk)>"
      ]
     },
     "execution_count": 361,
     "metadata": {},
     "output_type": "execute_result"
    }
   ],
   "source": [
    "fitness_func_1(3000,np)"
   ]
  },
  {
   "cell_type": "code",
   "execution_count": 292,
   "metadata": {},
   "outputs": [],
   "source": [
    "ab = []\n",
    "drug_bands = [0,3,30,300,3000]\n",
    "for i in drug_bands:\n",
    "    for j in range(int(length/divs)):\n",
    "        ab.append([i]*width)\n",
    "abx_A = np.array(ab)"
   ]
  },
  {
   "cell_type": "code",
   "execution_count": 293,
   "metadata": {},
   "outputs": [
    {
     "data": {
      "text/plain": [
       "<matplotlib.image.AxesImage at 0x1a19a9e2b0>"
      ]
     },
     "execution_count": 293,
     "metadata": {},
     "output_type": "execute_result"
    },
    {
     "data": {
      "image/png": "[encoded data removed]",
      "text/plain": [
       "<Figure size 432x288 with 1 Axes>"
      ]
     },
     "metadata": {
      "needs_background": "light"
     },
     "output_type": "display_data"
    }
   ],
   "source": [
    "plt.imshow(ab)"
   ]
  },
  {
   "cell_type": "code",
   "execution_count": 78,
   "metadata": {},
   "outputs": [
    {
     "data": {
      "text/plain": [
       "1"
      ]
     },
     "execution_count": 78,
     "metadata": {},
     "output_type": "execute_result"
    }
   ],
   "source": [
    "mutation(random(),prob_dist)"
   ]
  },
  {
   "cell_type": "code",
   "execution_count": 85,
   "metadata": {},
   "outputs": [],
   "source": [
    "r = random()"
   ]
  },
  {
   "cell_type": "code",
   "execution_count": 100,
   "metadata": {},
   "outputs": [],
   "source": [
    "check = np.append(0.66,prob_dist)"
   ]
  },
  {
   "cell_type": "code",
   "execution_count": 101,
   "metadata": {},
   "outputs": [],
   "source": [
    "check.sort()"
   ]
  },
  {
   "cell_type": "code",
   "execution_count": 102,
   "metadata": {},
   "outputs": [
    {
     "data": {
      "text/plain": [
       "1"
      ]
     },
     "execution_count": 102,
     "metadata": {},
     "output_type": "execute_result"
    }
   ],
   "source": [
    "np.where(check==0.66)[0][0]"
   ]
  },
  {
   "cell_type": "code",
   "execution_count": 205,
   "metadata": {},
   "outputs": [],
   "source": [
    "def fitness_func(d,m,k,s_p,s,pk):\n",
    "    p = s - s_p\n",
    "    y = s + (p)* ((d**k)/((d**k)- (s-p)/s))*((m - pk)/pk)\n",
    "    return y"
   ]
  },
  {
   "cell_type": "code",
   "execution_count": 209,
   "metadata": {},
   "outputs": [],
   "source": [
    "def fitness_func_1(d,m,k,s_p,s,pk):\n",
    "    p = s - s_p\n",
    "    y = s - (p)* ((d**k)/((d**k)- (s-p)/s))*(m/pk)\n",
    "    return y"
   ]
  },
  {
   "cell_type": "code",
   "execution_count": 210,
   "metadata": {},
   "outputs": [
    {
     "data": {
      "text/plain": [
       "<matplotlib.legend.Legend at 0x1a17a05710>"
      ]
     },
     "execution_count": 210,
     "metadata": {},
     "output_type": "execute_result"
    },
    {
     "data": {
      "image/png": "[encoded data removed]",
      "text/plain": [
       "<Figure size 432x288 with 1 Axes>"
      ]
     },
     "metadata": {
      "needs_background": "light"
     },
     "output_type": "display_data"
    }
   ],
   "source": [
    "d = [0,3,30,300,3000]\n",
    "pk = 1001\n",
    "mut_range = np.linspace(0,pk,pk +1)\n",
    "for i in d:\n",
    "    plt.plot(mut_range,fitness_func(i,mut_range,0.1,-1,1,pk),label = i)\n",
    "plt.legend()"
   ]
  },
  {
   "cell_type": "code",
   "execution_count": 211,
   "metadata": {},
   "outputs": [
    {
     "data": {
      "text/plain": [
       "array([-0.05487543, -0.05382161, -0.05276779, ...,  0.99789236,\n",
       "        0.99894618,  1.        ])"
      ]
     },
     "execution_count": 211,
     "metadata": {},
     "output_type": "execute_result"
    }
   ],
   "source": [
    "fitness_func(3,mut_range,0.1,-1,1,pk)"
   ]
  },
  {
   "cell_type": "code",
   "execution_count": 362,
   "metadata": {},
   "outputs": [
    {
     "data": {
      "text/plain": [
       "<matplotlib.legend.Legend at 0x1a1e43ddd8>"
      ]
     },
     "execution_count": 362,
     "metadata": {},
     "output_type": "execute_result"
    },
    {
     "data": {
      "image/png": "[encoded data removed]",
      "text/plain": [
       "<Figure size 432x288 with 1 Axes>"
      ]
     },
     "metadata": {
      "needs_background": "light"
     },
     "output_type": "display_data"
    }
   ],
   "source": [
    "d = [0,3,30,300,3000]\n",
    "pk = 1001\n",
    "mut_range = np.linspace(0,pk,pk +1)\n",
    "for i in d:\n",
    "    plt.plot(mut_range,fitness_func_1(i,mut_range,3,-1,1,pk),label = i)\n",
    "plt.legend()"
   ]
  },
  {
   "cell_type": "code",
   "execution_count": 151,
   "metadata": {},
   "outputs": [
    {
     "data": {
      "text/plain": [
       "[<matplotlib.lines.Line2D at 0x1a194019b0>]"
      ]
     },
     "execution_count": 151,
     "metadata": {},
     "output_type": "execute_result"
    },
    {
     "data": {
      "image/png": "[encoded data removed]",
      "text/plain": [
       "<Figure size 432x288 with 1 Axes>"
      ]
     },
     "metadata": {
      "needs_background": "light"
     },
     "output_type": "display_data"
    }
   ],
   "source": [
    "d = [0,3,30,300,3000]\n",
    "pk = 1001\n",
    "mut_range = np.linspace(0,pk,pk +1)\n",
    "\n",
    "plt.plot(mut_range,(mut_range-1)/2)\n"
   ]
  },
  {
   "cell_type": "code",
   "execution_count": 156,
   "metadata": {},
   "outputs": [
    {
     "data": {
      "text/plain": [
       "[<matplotlib.lines.Line2D at 0x1a18e744a8>]"
      ]
     },
     "execution_count": 156,
     "metadata": {},
     "output_type": "execute_result"
    },
    {
     "data": {
      "image/png": "[encoded data removed]",
      "text/plain": [
       "<Figure size 432x288 with 1 Axes>"
      ]
     },
     "metadata": {
      "needs_background": "light"
     },
     "output_type": "display_data"
    }
   ],
   "source": [
    "d = [0,3,30,300,3000]\n",
    "pk = 1001\n",
    "mut_range = np.linspace(0,pk,pk +1)\n",
    "\n",
    "plt.plot(mut_range,-(mut_range-1)/2)\n"
   ]
  },
  {
   "cell_type": "code",
   "execution_count": 423,
   "metadata": {},
   "outputs": [
    {
     "name": "stdout",
     "output_type": "stream",
     "text": [
      "84\n"
     ]
    }
   ],
   "source": [
    "for i in range(length):\n",
    "    if all(drug_A[i] == 300):\n",
    "        print(i)\n",
    "        break\n",
    "        "
   ]
  },
  {
   "cell_type": "code",
   "execution_count": 427,
   "metadata": {},
   "outputs": [
    {
     "name": "stdout",
     "output_type": "stream",
     "text": [
      "CPU times: user 542 µs, sys: 5 µs, total: 547 µs\n",
      "Wall time: 611 µs\n"
     ]
    },
    {
     "data": {
      "text/plain": [
       "[True,\n",
       " True,\n",
       " True,\n",
       " True,\n",
       " True,\n",
       " True,\n",
       " True,\n",
       " True,\n",
       " True,\n",
       " True,\n",
       " True,\n",
       " True,\n",
       " True,\n",
       " True,\n",
       " True,\n",
       " True,\n",
       " True,\n",
       " True,\n",
       " True,\n",
       " True,\n",
       " True,\n",
       " True,\n",
       " True,\n",
       " True,\n",
       " True,\n",
       " True,\n",
       " True,\n",
       " True,\n",
       " True,\n",
       " True,\n",
       " True,\n",
       " True,\n",
       " True,\n",
       " True,\n",
       " True,\n",
       " True,\n",
       " True,\n",
       " True,\n",
       " True,\n",
       " True,\n",
       " True,\n",
       " True,\n",
       " True,\n",
       " True,\n",
       " True,\n",
       " True,\n",
       " True,\n",
       " True,\n",
       " True,\n",
       " True,\n",
       " True,\n",
       " True,\n",
       " True,\n",
       " True,\n",
       " True,\n",
       " True,\n",
       " True,\n",
       " True,\n",
       " True,\n",
       " True,\n",
       " True,\n",
       " True,\n",
       " True,\n",
       " True,\n",
       " True,\n",
       " True,\n",
       " True,\n",
       " True,\n",
       " True,\n",
       " True,\n",
       " True,\n",
       " True,\n",
       " True,\n",
       " True,\n",
       " True,\n",
       " True,\n",
       " True,\n",
       " True,\n",
       " True,\n",
       " True,\n",
       " True,\n",
       " True,\n",
       " True,\n",
       " True,\n",
       " False,\n",
       " False,\n",
       " False,\n",
       " False,\n",
       " False,\n",
       " False,\n",
       " False,\n",
       " False,\n",
       " False,\n",
       " False,\n",
       " False,\n",
       " False,\n",
       " False,\n",
       " False,\n",
       " False,\n",
       " False,\n",
       " False,\n",
       " False,\n",
       " False,\n",
       " False,\n",
       " False,\n",
       " False,\n",
       " False,\n",
       " False,\n",
       " False,\n",
       " False,\n",
       " False,\n",
       " False,\n",
       " True,\n",
       " True,\n",
       " True,\n",
       " True,\n",
       " True,\n",
       " True,\n",
       " True,\n",
       " True,\n",
       " True,\n",
       " True,\n",
       " True,\n",
       " True,\n",
       " True,\n",
       " True,\n",
       " True,\n",
       " True,\n",
       " True,\n",
       " True,\n",
       " True,\n",
       " True,\n",
       " True,\n",
       " True,\n",
       " True,\n",
       " True,\n",
       " True,\n",
       " True,\n",
       " True,\n",
       " True]"
      ]
     },
     "execution_count": 427,
     "metadata": {},
     "output_type": "execute_result"
    }
   ],
   "source": [
    "%%time\n",
    "[all(drug_A[i] !=300) for i in range(length)]"
   ]
  },
  {
   "cell_type": "code",
   "execution_count": 421,
   "metadata": {},
   "outputs": [
    {
     "data": {
      "text/plain": [
       "array([3, 3, 3, 3, 3, 3, 3, 3, 3, 3, 3, 3, 3, 3, 3, 3, 3, 3, 3, 3, 3, 3,\n",
       "       3, 3, 3, 3, 3, 3, 3, 3, 3, 3, 3, 3, 3, 3, 3, 3, 3, 3, 3, 3, 3, 3,\n",
       "       3, 3, 3, 3, 3, 3, 3, 3, 3, 3, 3, 3, 3, 3, 3, 3, 3, 3, 3, 3, 3, 3,\n",
       "       3, 3, 3, 3, 3, 3, 3, 3, 3, 3, 3, 3, 3, 3, 3, 3, 3, 3, 3, 3, 3, 3,\n",
       "       3, 3, 3, 3, 3, 3, 3, 3, 3, 3, 3, 3, 3, 3, 3, 3, 3, 3, 3, 3, 3, 3,\n",
       "       3, 3, 3, 3, 3, 3, 3, 3, 3, 3, 3, 3, 3, 3, 3, 3])"
      ]
     },
     "execution_count": 421,
     "metadata": {},
     "output_type": "execute_result"
    }
   ],
   "source": [
    "drug_A[]"
   ]
  },
  {
   "cell_type": "code",
   "execution_count": 445,
   "metadata": {},
   "outputs": [
    {
     "ename": "TypeError",
     "evalue": "Image data cannot be converted to float",
     "output_type": "error",
     "traceback": [
      "\u001b[0;31m---------------------------------------------------------------------------\u001b[0m",
      "\u001b[0;31mTypeError\u001b[0m                                 Traceback (most recent call last)",
      "\u001b[0;32m<ipython-input-445-2e68f2aff64e>\u001b[0m in \u001b[0;36m<module>\u001b[0;34m()\u001b[0m\n\u001b[0;32m----> 1\u001b[0;31m \u001b[0mplt\u001b[0m\u001b[0;34m.\u001b[0m\u001b[0mimshow\u001b[0m\u001b[0;34m(\u001b[0m\u001b[0;34m[\u001b[0m\u001b[0;34m[\u001b[0m\u001b[0;36m3\u001b[0m\u001b[0;34m,\u001b[0m\u001b[0;36m4\u001b[0m\u001b[0;34m,\u001b[0m\u001b[0;36m3\u001b[0m\u001b[0;34m]\u001b[0m\u001b[0;34m,\u001b[0m\u001b[0;34m[\u001b[0m\u001b[0;36m4\u001b[0m\u001b[0;34m,\u001b[0m\u001b[0;36m2\u001b[0m\u001b[0;34m,\u001b[0m\u001b[0;32mNone\u001b[0m\u001b[0;34m]\u001b[0m\u001b[0;34m]\u001b[0m\u001b[0;34m)\u001b[0m\u001b[0;34m\u001b[0m\u001b[0m\n\u001b[0m",
      "\u001b[0;32m~/anaconda3/lib/python3.7/site-packages/matplotlib/pyplot.py\u001b[0m in \u001b[0;36mimshow\u001b[0;34m(X, cmap, norm, aspect, interpolation, alpha, vmin, vmax, origin, extent, shape, filternorm, filterrad, imlim, resample, url, hold, data, **kwargs)\u001b[0m\n\u001b[1;32m   3208\u001b[0m                         \u001b[0mfilternorm\u001b[0m\u001b[0;34m=\u001b[0m\u001b[0mfilternorm\u001b[0m\u001b[0;34m,\u001b[0m \u001b[0mfilterrad\u001b[0m\u001b[0;34m=\u001b[0m\u001b[0mfilterrad\u001b[0m\u001b[0;34m,\u001b[0m\u001b[0;34m\u001b[0m\u001b[0m\n\u001b[1;32m   3209\u001b[0m                         \u001b[0mimlim\u001b[0m\u001b[0;34m=\u001b[0m\u001b[0mimlim\u001b[0m\u001b[0;34m,\u001b[0m \u001b[0mresample\u001b[0m\u001b[0;34m=\u001b[0m\u001b[0mresample\u001b[0m\u001b[0;34m,\u001b[0m \u001b[0murl\u001b[0m\u001b[0;34m=\u001b[0m\u001b[0murl\u001b[0m\u001b[0;34m,\u001b[0m \u001b[0mdata\u001b[0m\u001b[0;34m=\u001b[0m\u001b[0mdata\u001b[0m\u001b[0;34m,\u001b[0m\u001b[0;34m\u001b[0m\u001b[0m\n\u001b[0;32m-> 3210\u001b[0;31m                         **kwargs)\n\u001b[0m\u001b[1;32m   3211\u001b[0m     \u001b[0;32mfinally\u001b[0m\u001b[0;34m:\u001b[0m\u001b[0;34m\u001b[0m\u001b[0m\n\u001b[1;32m   3212\u001b[0m         \u001b[0max\u001b[0m\u001b[0;34m.\u001b[0m\u001b[0m_hold\u001b[0m \u001b[0;34m=\u001b[0m \u001b[0mwashold\u001b[0m\u001b[0;34m\u001b[0m\u001b[0m\n",
      "\u001b[0;32m~/anaconda3/lib/python3.7/site-packages/matplotlib/__init__.py\u001b[0m in \u001b[0;36minner\u001b[0;34m(ax, *args, **kwargs)\u001b[0m\n\u001b[1;32m   1865\u001b[0m                         \u001b[0;34m\"the Matplotlib list!)\"\u001b[0m \u001b[0;34m%\u001b[0m \u001b[0;34m(\u001b[0m\u001b[0mlabel_namer\u001b[0m\u001b[0;34m,\u001b[0m \u001b[0mfunc\u001b[0m\u001b[0;34m.\u001b[0m\u001b[0m__name__\u001b[0m\u001b[0;34m)\u001b[0m\u001b[0;34m,\u001b[0m\u001b[0;34m\u001b[0m\u001b[0m\n\u001b[1;32m   1866\u001b[0m                         RuntimeWarning, stacklevel=2)\n\u001b[0;32m-> 1867\u001b[0;31m             \u001b[0;32mreturn\u001b[0m \u001b[0mfunc\u001b[0m\u001b[0;34m(\u001b[0m\u001b[0max\u001b[0m\u001b[0;34m,\u001b[0m \u001b[0;34m*\u001b[0m\u001b[0margs\u001b[0m\u001b[0;34m,\u001b[0m \u001b[0;34m**\u001b[0m\u001b[0mkwargs\u001b[0m\u001b[0;34m)\u001b[0m\u001b[0;34m\u001b[0m\u001b[0m\n\u001b[0m\u001b[1;32m   1868\u001b[0m \u001b[0;34m\u001b[0m\u001b[0m\n\u001b[1;32m   1869\u001b[0m         inner.__doc__ = _add_data_doc(inner.__doc__,\n",
      "\u001b[0;32m~/anaconda3/lib/python3.7/site-packages/matplotlib/axes/_axes.py\u001b[0m in \u001b[0;36mimshow\u001b[0;34m(self, X, cmap, norm, aspect, interpolation, alpha, vmin, vmax, origin, extent, shape, filternorm, filterrad, imlim, resample, url, **kwargs)\u001b[0m\n\u001b[1;32m   5499\u001b[0m                               resample=resample, **kwargs)\n\u001b[1;32m   5500\u001b[0m \u001b[0;34m\u001b[0m\u001b[0m\n\u001b[0;32m-> 5501\u001b[0;31m         \u001b[0mim\u001b[0m\u001b[0;34m.\u001b[0m\u001b[0mset_data\u001b[0m\u001b[0;34m(\u001b[0m\u001b[0mX\u001b[0m\u001b[0;34m)\u001b[0m\u001b[0;34m\u001b[0m\u001b[0m\n\u001b[0m\u001b[1;32m   5502\u001b[0m         \u001b[0mim\u001b[0m\u001b[0;34m.\u001b[0m\u001b[0mset_alpha\u001b[0m\u001b[0;34m(\u001b[0m\u001b[0malpha\u001b[0m\u001b[0;34m)\u001b[0m\u001b[0;34m\u001b[0m\u001b[0m\n\u001b[1;32m   5503\u001b[0m         \u001b[0;32mif\u001b[0m \u001b[0mim\u001b[0m\u001b[0;34m.\u001b[0m\u001b[0mget_clip_path\u001b[0m\u001b[0;34m(\u001b[0m\u001b[0;34m)\u001b[0m \u001b[0;32mis\u001b[0m \u001b[0;32mNone\u001b[0m\u001b[0;34m:\u001b[0m\u001b[0;34m\u001b[0m\u001b[0m\n",
      "\u001b[0;32m~/anaconda3/lib/python3.7/site-packages/matplotlib/image.py\u001b[0m in \u001b[0;36mset_data\u001b[0;34m(self, A)\u001b[0m\n\u001b[1;32m    648\u001b[0m         if (self._A.dtype != np.uint8 and\n\u001b[1;32m    649\u001b[0m                 not np.can_cast(self._A.dtype, float, \"same_kind\")):\n\u001b[0;32m--> 650\u001b[0;31m             \u001b[0;32mraise\u001b[0m \u001b[0mTypeError\u001b[0m\u001b[0;34m(\u001b[0m\u001b[0;34m\"Image data cannot be converted to float\"\u001b[0m\u001b[0;34m)\u001b[0m\u001b[0;34m\u001b[0m\u001b[0m\n\u001b[0m\u001b[1;32m    651\u001b[0m \u001b[0;34m\u001b[0m\u001b[0m\n\u001b[1;32m    652\u001b[0m         if not (self._A.ndim == 2\n",
      "\u001b[0;31mTypeError\u001b[0m: Image data cannot be converted to float"
     ]
    },
    {
     "data": {
      "image/png": "[encoded data removed]",
      "text/plain": [
       "<Figure size 432x288 with 1 Axes>"
      ]
     },
     "metadata": {
      "needs_background": "light"
     },
     "output_type": "display_data"
    }
   ],
   "source": [
    "plt.imshow([[3,4,3],[4,2,None]])"
   ]
  },
  {
   "cell_type": "code",
   "execution_count": 582,
   "metadata": {},
   "outputs": [
    {
     "data": {
      "text/plain": [
       "array([0.        , 0.89281925, 0.99999622, 1.        , 1.        ,\n",
       "       1.        , 1.        , 1.        , 1.        , 1.        ,\n",
       "       1.        , 1.        , 1.        , 1.        , 1.        ,\n",
       "       1.        , 1.        , 1.        , 1.        , 1.        ,\n",
       "       1.        , 1.        , 1.        , 1.        , 1.        ,\n",
       "       1.        , 1.        , 1.        , 1.        , 1.        ,\n",
       "       1.        , 1.        , 1.        , 1.        , 1.        ,\n",
       "       1.        , 1.        , 1.        , 1.        , 1.        ,\n",
       "       1.        , 1.        , 1.        , 1.        , 1.        ,\n",
       "       1.        , 1.        , 1.        , 1.        , 1.        ,\n",
       "       1.        , 1.        , 1.        , 1.        , 1.        ,\n",
       "       1.        , 1.        , 1.        , 1.        , 1.        ,\n",
       "       1.        , 1.        , 1.        , 1.        , 1.        ,\n",
       "       1.        , 1.        , 1.        , 1.        , 1.        ,\n",
       "       1.        , 1.        , 1.        , 1.        , 1.        ,\n",
       "       1.        , 1.        , 1.        , 1.        , 1.        ,\n",
       "       1.        , 1.        , 1.        , 1.        , 1.        ,\n",
       "       1.        , 1.        , 1.        , 1.        , 1.        ,\n",
       "       1.        , 1.        , 1.        , 1.        , 1.        ,\n",
       "       1.        , 1.        , 1.        , 1.        , 1.        ,\n",
       "       1.        ])"
      ]
     },
     "execution_count": 582,
     "metadata": {},
     "output_type": "execute_result"
    }
   ],
   "source": [
    "m0.000001,prob_dist"
   ]
  },
  {
   "cell_type": "code",
   "execution_count": 601,
   "metadata": {},
   "outputs": [
    {
     "data": {
      "text/plain": [
       "[<matplotlib.lines.Line2D at 0x1a20624b00>]"
      ]
     },
     "execution_count": 601,
     "metadata": {},
     "output_type": "execute_result"
    },
    {
     "data": {
      "image/png": "[encoded data removed]",
      "text/plain": [
       "<Figure size 432x288 with 1 Axes>"
      ]
     },
     "metadata": {
      "needs_background": "light"
     },
     "output_type": "display_data"
    }
   ],
   "source": [
    "plt.plot(np.linspace(0,10,11),poisson_max_cdf(np.linspace(0,10,11),10**-9,int(((60*((120/9)*5) * 10**8)/1)/(length*width))))\n"
   ]
  },
  {
   "cell_type": "code",
   "execution_count": 599,
   "metadata": {},
   "outputs": [
    {
     "data": {
      "text/plain": [
       "array([0.81873075, 0.9824769 , 0.99885152, 0.99994316, 0.99999774,\n",
       "       0.99999993, 1.        , 1.        , 1.        , 1.        ,\n",
       "       1.        ])"
      ]
     },
     "execution_count": 599,
     "metadata": {},
     "output_type": "execute_result"
    }
   ],
   "source": [
    "poisson.cdf(np.linspace(0,10,11),.2)"
   ]
  },
  {
   "cell_type": "code",
   "execution_count": 666,
   "metadata": {},
   "outputs": [
    {
     "data": {
      "text/plain": [
       "0.0"
      ]
     },
     "execution_count": 666,
     "metadata": {},
     "output_type": "execute_result"
    }
   ],
   "source": [
    "poisson.cdf(-1,0.1)"
   ]
  },
  {
   "cell_type": "code",
   "execution_count": 765,
   "metadata": {},
   "outputs": [],
   "source": [
    "\n",
    "##simulation of bacterial evolution over a rectangle of given size with discrete (horizontal) bands of specified antiobitic concentration\n",
    "##outputs the cellstate over the entire course of evolution\n",
    "def megaplate_sim_fast(length ,width, divs,abx,mut_rate, k,s_p,s,pk,density):\n",
    "    ##set up networkx grid to calculate neighbors\n",
    "   ##set up networkx grid to calculate neighbors\n",
    "    G = grid_graph(dim=[width, length])\n",
    "\n",
    "    ##set up array to track mutation states of cells in grid\n",
    "    cells = np.full((length,width),-1)\n",
    "\n",
    "    ##'innoculate' the first row with wild type cells\n",
    "    cells[0] = 0\n",
    "\n",
    "    ##actual cells per grid cell, as scaled by the MegaPLate experiment,  Baym et. al \n",
    "    cells_per_grid = density\n",
    "\n",
    "    ##mutation odds over mutation space based on the \n",
    "    ##expected maximum value for the number (of cells in grid_cell) drawn from a  poisson distruibtion  \n",
    "    mut_space = np.linspace(0,pk,pk+1)\n",
    "    #prob_dist = poisson_max_cdf(np.linspace(0,100,101),mut_rate,cells_per_grid)\n",
    "    prob_dist = poisson.cdf(np.linspace(0,100,101),mut_rate)\n",
    "    ##save all cell \n",
    "    #cell_history = []\n",
    "\n",
    "    ##indicate that the half time has been reached yet\n",
    "    half_time =0 \n",
    "\n",
    "    cell_history= []\n",
    "    \n",
    "    ##when to stop running the cimulation\n",
    "    #while all(cells[-1] == -1) and len(cell_history) != 40002:\n",
    "    #while all(cells[-int(ln/g)+2] == -1) and len(cell_history) != 40002:\n",
    "    \n",
    "    #stop running when a cell has made it to the last row\n",
    "    while all(cells[-1] == -1):\n",
    "        ##each itteration the  most recent cell state is added to the cell_history array\n",
    "        cell_history.append(cells.tolist())\n",
    "\n",
    "\n",
    "\n",
    "\n",
    "        ##find slots where there is a living cells\n",
    "        cells_where =  np.where(cells >= 0)\n",
    "\n",
    "\n",
    "        ##create a randomized list of the living cells with which to iterate through\n",
    "        live_cells_list = []\n",
    "        for x, y in zip(cells_where[0], cells_where[1]):\n",
    "            live_cells_list.append([x,y])\n",
    "\n",
    "        np.random.shuffle(live_cells_list)\n",
    "        \n",
    "        \n",
    "        for j in live_cells_list:\n",
    "                \n",
    "                        ##assign some amount (including 0) of additional mutations to the parent cell spot\n",
    "                        #which now effectively becomes one of the daughter cells\n",
    "\n",
    "                    \n",
    "                empty_neighbors = [x for x in G.neighbors(tuple(j)) if cells[tuple((x))] ==-1 ] \n",
    "                #if the array containing the empty neighbors is not empty picj one at random\n",
    "                if empty_neighbors:\n",
    "                    g_draw = 2 * random() -1\n",
    "                    if fitness_func(abx[tuple(j)],cells[tuple(j)],k,s_p,s,pk)> g_draw :\n",
    "                        pick = choice(empty_neighbors)\n",
    "                        m = mutation(random(),prob_dist)\n",
    "\n",
    "                        m_net = []\n",
    "                        for i in range(m):\n",
    "                            m_net.append(choice([-1,1]))\n",
    "                            cells[tuple(j)] = cells[tuple(j)]+sum(m_net)\n",
    "\n",
    "                        ##other daughter cells occupies chosen empty spot\n",
    "                        cells[tuple(pick)] = cells[tuple(j)]\n",
    "                    \n",
    "            \n",
    "        \n",
    "    return cell_history,cells\n"
   ]
  },
  {
   "cell_type": "code",
   "execution_count": 766,
   "metadata": {},
   "outputs": [
    {
     "name": "stdout",
     "output_type": "stream",
     "text": [
      "CPU times: user 14.2 s, sys: 509 ms, total: 14.7 s\n",
      "Wall time: 15.1 s\n"
     ]
    }
   ],
   "source": [
    "%%time\n",
    "\n",
    "length = 100\n",
    "width = int(0.9*length)\n",
    "divs = 5\n",
    "\n",
    "l = [val for sublist in [[j for i in range(int(length/divs))] for j in range (0,divs)] for val in sublist]\n",
    "ab =[[3*10**(i-1)]*width for i  in l if i != 0]\n",
    "[ab.insert(i, [0]*width) for i in range(0,int(length/divs))]\n",
    "abx_grad = np.array(ab)\n",
    "\n",
    "bacteria_per_gridcell = int(((60*((120/9)*5) * 10**8)/1)/(length*width))\n",
    "ch1,c= megaplate_sim_fast(length,width,divs, abx_grad,0.1,0.4,-1,0.8,500, density)"
   ]
  },
  {
   "cell_type": "code",
   "execution_count": 741,
   "metadata": {},
   "outputs": [
    {
     "data": {
      "text/plain": [
       "599"
      ]
     },
     "execution_count": 741,
     "metadata": {},
     "output_type": "execute_result"
    }
   ],
   "source": [
    "len(ch1)"
   ]
  },
  {
   "cell_type": "code",
   "execution_count": 761,
   "metadata": {},
   "outputs": [
    {
     "data": {
      "text/plain": [
       "36"
      ]
     },
     "execution_count": 761,
     "metadata": {},
     "output_type": "execute_result"
    }
   ],
   "source": [
    "np.array(ch1).max()"
   ]
  },
  {
   "cell_type": "code",
   "execution_count": 767,
   "metadata": {},
   "outputs": [
    {
     "data": {
      "text/plain": [
       "<matplotlib.image.AxesImage at 0x1a1fd4bc88>"
      ]
     },
     "execution_count": 767,
     "metadata": {},
     "output_type": "execute_result"
    },
    {
     "data": {
      "image/png": "[encoded data removed]",
      "text/plain": [
       "<Figure size 432x288 with 1 Axes>"
      ]
     },
     "metadata": {
      "needs_background": "light"
     },
     "output_type": "display_data"
    }
   ],
   "source": [
    "plt.imshow(ch1[-1])"
   ]
  },
  {
   "cell_type": "code",
   "execution_count": 757,
   "metadata": {},
   "outputs": [
    {
     "name": "stdout",
     "output_type": "stream",
     "text": [
      "CPU times: user 25.2 s, sys: 295 ms, total: 25.5 s\n",
      "Wall time: 27.1 s\n"
     ]
    }
   ],
   "source": [
    "%%time\n",
    "\n",
    "length = 100\n",
    "width = int(0.9*length)\n",
    "divs = 5\n",
    "\n",
    "l = [val for sublist in [[j for i in range(int(length/divs))] for j in range (0,divs)] for val in sublist]\n",
    "ab =[[3*10**(i-1)]*width for i  in l if i != 0]\n",
    "[ab.insert(i, [0]*width) for i in range(0,int(length/divs))]\n",
    "abx_grad = np.array(ab)\n",
    "\n",
    "bacteria_per_gridcell = int(((60*((120/9)*5) * 10**8)/1)/(length*width))\n",
    "ch,c= megaplate_sim(length,width,divs, abx_grad,0.1,0.4,-1,0.8,500, density)"
   ]
  },
  {
   "cell_type": "code",
   "execution_count": 758,
   "metadata": {},
   "outputs": [
    {
     "data": {
      "text/plain": [
       "<matplotlib.image.AxesImage at 0x1a23cc0b70>"
      ]
     },
     "execution_count": 758,
     "metadata": {},
     "output_type": "execute_result"
    },
    {
     "data": {
      "image/png": "[encoded data removed]",
      "text/plain": [
       "<Figure size 432x288 with 1 Axes>"
      ]
     },
     "metadata": {
      "needs_background": "light"
     },
     "output_type": "display_data"
    }
   ],
   "source": [
    "plt.imshow(ch[-1])"
   ]
  },
  {
   "cell_type": "code",
   "execution_count": 762,
   "metadata": {},
   "outputs": [
    {
     "data": {
      "text/plain": [
       "26"
      ]
     },
     "execution_count": 762,
     "metadata": {},
     "output_type": "execute_result"
    }
   ],
   "source": [
    "np.array(ch).max()"
   ]
  },
  {
   "cell_type": "code",
   "execution_count": 764,
   "metadata": {},
   "outputs": [
    {
     "data": {
      "text/plain": [
       "528"
      ]
     },
     "execution_count": 764,
     "metadata": {},
     "output_type": "execute_result"
    }
   ],
   "source": [
    "len(ch1)"
   ]
  },
  {
   "cell_type": "code",
   "execution_count": 706,
   "metadata": {},
   "outputs": [],
   "source": [
    "s = np.random.uniform(-m,m,1000)"
   ]
  },
  {
   "cell_type": "code",
   "execution_count": 708,
   "metadata": {},
   "outputs": [
    {
     "data": {
      "image/png": "[encoded data removed]",
      "text/plain": [
       "<Figure size 432x288 with 1 Axes>"
      ]
     },
     "metadata": {
      "needs_background": "light"
     },
     "output_type": "display_data"
    }
   ],
   "source": [
    "import matplotlib.pyplot as plt\n",
    "count, bins, ignored = plt.hist(s, 15, density=True)\n",
    "#plt.plot(bins, np.ones_like(bins), linewidth=2, color='r')\n",
    "plt.show()"
   ]
  },
  {
   "cell_type": "code",
   "execution_count": 709,
   "metadata": {},
   "outputs": [
    {
     "ename": "SyntaxError",
     "evalue": "can't assign to operator (<ipython-input-709-2732614fa5de>, line 1)",
     "output_type": "error",
     "traceback": [
      "\u001b[0;36m  File \u001b[0;32m\"<ipython-input-709-2732614fa5de>\"\u001b[0;36m, line \u001b[0;32m1\u001b[0m\n\u001b[0;31m    (a+b+c) = 3\u001b[0m\n\u001b[0m               ^\u001b[0m\n\u001b[0;31mSyntaxError\u001b[0m\u001b[0;31m:\u001b[0m can't assign to operator\n"
     ]
    }
   ],
   "source": [
    "(a+b+c) = 3"
   ]
  },
  {
   "cell_type": "code",
   "execution_count": 721,
   "metadata": {},
   "outputs": [],
   "source": [
    "m=1"
   ]
  },
  {
   "cell_type": "code",
   "execution_count": 722,
   "metadata": {},
   "outputs": [],
   "source": [
    "m_net = []\n",
    "for i in range(m):\n",
    "    m_net.append(choice([-1,1]))"
   ]
  },
  {
   "cell_type": "code",
   "execution_count": 723,
   "metadata": {},
   "outputs": [
    {
     "data": {
      "text/plain": [
       "1"
      ]
     },
     "execution_count": 723,
     "metadata": {},
     "output_type": "execute_result"
    }
   ],
   "source": [
    "sum(m_net)"
   ]
  },
  {
   "cell_type": "code",
   "execution_count": 59,
   "metadata": {},
   "outputs": [],
   "source": [
    "m = mutation(random(),poisson.cdf([0,1,2,3,4,5],.001))*choice([-1,1])"
   ]
  },
  {
   "cell_type": "code",
   "execution_count": 60,
   "metadata": {},
   "outputs": [
    {
     "data": {
      "text/plain": [
       "0"
      ]
     },
     "execution_count": 60,
     "metadata": {},
     "output_type": "execute_result"
    }
   ],
   "source": [
    "m"
   ]
  },
  {
   "cell_type": "code",
   "execution_count": null,
   "metadata": {},
   "outputs": [],
   "source": []
  }
 ],
 "metadata": {
  "kernelspec": {
   "display_name": "Python 3",
   "language": "python",
   "name": "python3"
  },
  "language_info": {
   "codemirror_mode": {
    "name": "ipython",
    "version": 3
   },
   "file_extension": ".py",
   "mimetype": "text/x-python",
   "name": "python",
   "nbconvert_exporter": "python",
   "pygments_lexer": "ipython3",
   "version": "3.7.0"
  }
 },
 "nbformat": 4,
 "nbformat_minor": 2
}
